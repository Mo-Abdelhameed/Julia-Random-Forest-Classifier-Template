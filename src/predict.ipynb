{
 "cells": [
  {
   "cell_type": "markdown",
   "metadata": {},
   "source": [
    "## Imports"
   ]
  },
  {
   "cell_type": "code",
   "execution_count": 102,
   "metadata": {},
   "outputs": [],
   "source": [
    "# DO NOT CHANGE THESE LINES.\n",
    "using Suppressor\n",
    "@suppress begin\n",
    "    using DataFrames, CSV, Random, Statistics, Serialization, LazyJSON, StatsBase, DecisionTree, ScientificTypes, MLJ\n",
    "end\n"
   ]
  },
  {
   "cell_type": "markdown",
   "metadata": {},
   "source": [
    "## Paths"
   ]
  },
  {
   "cell_type": "code",
   "execution_count": 103,
   "metadata": {},
   "outputs": [],
   "source": [
    "# DO NOT CHANGE THESE LINES \n",
    "ROOT_DIR = dirname(pwd())\n",
    "MODEL_INPUTS_OUTPUTS = joinpath(ROOT_DIR, \"model_inputs_outputs\")\n",
    "INPUT_DIR = joinpath(MODEL_INPUTS_OUTPUTS, \"inputs\")\n",
    "INPUT_SCHEMA_DIR = joinpath(INPUT_DIR, \"schema\")\n",
    "DATA_DIR = joinpath(INPUT_DIR, \"data\")\n",
    "OUTPUT_DIR = joinpath(MODEL_INPUTS_OUTPUTS, \"outputs\")\n",
    "TRAIN_DIR = joinpath(DATA_DIR, \"training\")\n",
    "TEST_DIR = joinpath(DATA_DIR, \"testing\")\n",
    "MODEL_PATH = joinpath(MODEL_INPUTS_OUTPUTS, \"model\")\n",
    "MODEL_ARTIFACTS_PATH = joinpath(MODEL_PATH, \"artifacts\")\n",
    "OHE_ENCODER_FILE = joinpath(MODEL_ARTIFACTS_PATH, \"ohe.jld2\")\n",
    "PREDICTOR_DIR_PATH = joinpath(MODEL_ARTIFACTS_PATH, \"predictor\")\n",
    "PREDICTOR_FILE_PATH = joinpath(PREDICTOR_DIR_PATH, \"predictor.ser\")\n",
    "IMPUTATION_FILE = joinpath(MODEL_ARTIFACTS_PATH, \"imputation.ser\")\n",
    "TOP_CATEGORIES = joinpath(MODEL_ARTIFACTS_PATH, \"top_categories.ser\")\n",
    "PREDICTIONS_DIR = joinpath(OUTPUT_DIR, \"predictions\")\n",
    "PREDICTIONS_FILE = joinpath(PREDICTIONS_DIR, \"predictions.csv\")\n",
    "TARGET_LEVELS = joinpath(MODEL_ARTIFACTS_PATH, \"target_levels.ser\")\n",
    "\n",
    "\n",
    "\n",
    "if !isdir(MODEL_ARTIFACTS_PATH)\n",
    "    mkdir(MODEL_ARTIFACTS_PATH)\n",
    "end\n",
    "if !isdir(PREDICTOR_DIR_PATH)\n",
    "    mkdir(PREDICTOR_DIR_PATH)\n",
    "end"
   ]
  },
  {
   "cell_type": "markdown",
   "metadata": {},
   "source": [
    "### Reading the schema"
   ]
  },
  {
   "cell_type": "code",
   "execution_count": 104,
   "metadata": {},
   "outputs": [
    {
     "data": {
      "text/plain": [
       "3-element LazyJSON.Array{Nothing, String}:\n",
       " \"EI\"\n",
       " \"IE\"\n",
       " \"N\""
      ]
     },
     "execution_count": 104,
     "metadata": {},
     "output_type": "execute_result"
    }
   ],
   "source": [
    "# Reading a schema from a JSON file and extracting features\n",
    "file_name = first(filter(x -> endswith(x, \"json\"), readdir(INPUT_SCHEMA_DIR)))\n",
    "schema_path = joinpath(INPUT_SCHEMA_DIR, file_name)\n",
    "schema_string = read(schema_path, String)  # Read file content as a string\n",
    "schema = LazyJSON.parse(schema_string)\n",
    "features = schema[\"features\"]\n",
    "\n",
    "# Identifying numeric, categorical, and nullable features\n",
    "numeric_features = String[]\n",
    "categorical_features = String[]\n",
    "nullable_features = String[]\n",
    "\n",
    "for f in features\n",
    "    if f[\"dataType\"] == \"CATEGORICAL\"\n",
    "        push!(categorical_features, f[\"name\"])\n",
    "    else\n",
    "        push!(numeric_features, f[\"name\"])\n",
    "    end\n",
    "    if f[\"nullable\"]\n",
    "        push!(nullable_features, f[\"name\"])\n",
    "    end\n",
    "end\n",
    "\n",
    "# Extracting ID and target features\n",
    "id_feature = schema[\"id\"][\"name\"]\n",
    "target_feature = schema[\"target\"][\"name\"]\n",
    "target_classes = schema[\"target\"][\"classes\"]"
   ]
  },
  {
   "cell_type": "markdown",
   "metadata": {},
   "source": [
    "### Reading test data."
   ]
  },
  {
   "cell_type": "code",
   "execution_count": 105,
   "metadata": {},
   "outputs": [
    {
     "data": {
      "text/html": [
       "<div class=\"data-frame\"><p>636 rows × 61 columns (omitted printing of 56 columns)</p><table class=\"data-frame\"><thead><tr><th></th><th>Instance</th><th>Position_-30</th><th>Position_-29</th><th>Position_-28</th><th>Position_-27</th></tr><tr><th></th><th title=\"String31\">String31</th><th title=\"String1\">String1</th><th title=\"String1\">String1</th><th title=\"String1\">String1</th><th title=\"String1\">String1</th></tr></thead><tbody><tr><th>1</th><td>HUMMHCW1B-ACCEPTOR-1398</td><td>G</td><td>G</td><td>A</td><td>C</td></tr><tr><th>2</th><td>HUMIL1B-DONOR-3748</td><td>G</td><td>C</td><td>A</td><td>C</td></tr><tr><th>3</th><td>HUMACCYBA-ACCEPTOR-2599</td><td>A</td><td>G</td><td>C</td><td>T</td></tr><tr><th>4</th><td>HUMRGNTSA-NEG-2161</td><td>C</td><td>T</td><td>G</td><td>T</td></tr><tr><th>5</th><td>HUMMHCW1B-DONOR-3405</td><td>G</td><td>C</td><td>T</td><td>C</td></tr><tr><th>6</th><td>HUMGCB1-ACCEPTOR-4081</td><td>C</td><td>C</td><td>G</td><td>G</td></tr><tr><th>7</th><td>HUM3ALPH-NEG-1</td><td>G</td><td>A</td><td>A</td><td>T</td></tr><tr><th>8</th><td>HUMA1GP01-NEG-301</td><td>G</td><td>C</td><td>G</td><td>G</td></tr><tr><th>9</th><td>HUMMYC3L-DONOR-402</td><td>C</td><td>C</td><td>G</td><td>C</td></tr><tr><th>10</th><td>HUMA1ATP-DONOR-11057</td><td>A</td><td>C</td><td>A</td><td>G</td></tr><tr><th>11</th><td>HUMMHB27B-DONOR-960</td><td>T</td><td>G</td><td>C</td><td>T</td></tr><tr><th>12</th><td>HUMMYLCA-ACCEPTOR-2214</td><td>T</td><td>G</td><td>G</td><td>C</td></tr><tr><th>13</th><td>HUMIRBPG-DONOR-7130</td><td>G</td><td>T</td><td>G</td><td>A</td></tr><tr><th>14</th><td>HUMMHCP52-ACCEPTOR-1114</td><td>C</td><td>C</td><td>T</td><td>G</td></tr><tr><th>15</th><td>HUMKEREP-DONOR-4033</td><td>T</td><td>C</td><td>T</td><td>C</td></tr><tr><th>16</th><td>HUMATPSYB-DONOR-2217</td><td>T</td><td>G</td><td>C</td><td>G</td></tr><tr><th>17</th><td>HUMMYHC-NEG-5941</td><td>A</td><td>T</td><td>A</td><td>T</td></tr><tr><th>18</th><td>HUMSODA-NEG-6361</td><td>A</td><td>G</td><td>C</td><td>T</td></tr><tr><th>19</th><td>HUMAPOB10-NEG-301</td><td>C</td><td>A</td><td>G</td><td>A</td></tr><tr><th>20</th><td>HUMA1GLY2-ACCEPTOR-3244</td><td>T</td><td>C</td><td>T</td><td>C</td></tr><tr><th>21</th><td>HUMHF10-NEG-241</td><td>A</td><td>A</td><td>G</td><td>G</td></tr><tr><th>22</th><td>HUMSODA-ACCEPTOR-7572</td><td>G</td><td>T</td><td>T</td><td>T</td></tr><tr><th>23</th><td>CHPIGECA-DONOR-1313</td><td>C</td><td>C</td><td>C</td><td>T</td></tr><tr><th>24</th><td>HUMBN51-NEG-1261</td><td>G</td><td>G</td><td>C</td><td>G</td></tr><tr><th>25</th><td>HUMATPSYB-ACCEPTOR-3096</td><td>G</td><td>T</td><td>A</td><td>T</td></tr><tr><th>26</th><td>HUMTHB-ACCEPTOR-20170</td><td>C</td><td>C</td><td>T</td><td>G</td></tr><tr><th>27</th><td>HUMPLPSPC-DONOR-628</td><td>A</td><td>G</td><td>C</td><td>A</td></tr><tr><th>28</th><td>HUMGRP78-ACCEPTOR-2145</td><td>C</td><td>A</td><td>A</td><td>T</td></tr><tr><th>29</th><td>HUMCYPIIE-ACCEPTOR-12808</td><td>A</td><td>C</td><td>T</td><td>C</td></tr><tr><th>30</th><td>HUMALDAR-NEG-1081</td><td>A</td><td>G</td><td>G</td><td>C</td></tr><tr><th>&vellip;</th><td>&vellip;</td><td>&vellip;</td><td>&vellip;</td><td>&vellip;</td><td>&vellip;</td></tr></tbody></table></div>"
      ],
      "text/latex": [
       "\\begin{tabular}{r|cccccc}\n",
       "\t& Instance & Position\\_-30 & Position\\_-29 & Position\\_-28 & Position\\_-27 & \\\\\n",
       "\t\\hline\n",
       "\t& String31 & String1 & String1 & String1 & String1 & \\\\\n",
       "\t\\hline\n",
       "\t1 & HUMMHCW1B-ACCEPTOR-1398 & G & G & A & C & $\\dots$ \\\\\n",
       "\t2 & HUMIL1B-DONOR-3748 & G & C & A & C & $\\dots$ \\\\\n",
       "\t3 & HUMACCYBA-ACCEPTOR-2599 & A & G & C & T & $\\dots$ \\\\\n",
       "\t4 & HUMRGNTSA-NEG-2161 & C & T & G & T & $\\dots$ \\\\\n",
       "\t5 & HUMMHCW1B-DONOR-3405 & G & C & T & C & $\\dots$ \\\\\n",
       "\t6 & HUMGCB1-ACCEPTOR-4081 & C & C & G & G & $\\dots$ \\\\\n",
       "\t7 & HUM3ALPH-NEG-1 & G & A & A & T & $\\dots$ \\\\\n",
       "\t8 & HUMA1GP01-NEG-301 & G & C & G & G & $\\dots$ \\\\\n",
       "\t9 & HUMMYC3L-DONOR-402 & C & C & G & C & $\\dots$ \\\\\n",
       "\t10 & HUMA1ATP-DONOR-11057 & A & C & A & G & $\\dots$ \\\\\n",
       "\t11 & HUMMHB27B-DONOR-960 & T & G & C & T & $\\dots$ \\\\\n",
       "\t12 & HUMMYLCA-ACCEPTOR-2214 & T & G & G & C & $\\dots$ \\\\\n",
       "\t13 & HUMIRBPG-DONOR-7130 & G & T & G & A & $\\dots$ \\\\\n",
       "\t14 & HUMMHCP52-ACCEPTOR-1114 & C & C & T & G & $\\dots$ \\\\\n",
       "\t15 & HUMKEREP-DONOR-4033 & T & C & T & C & $\\dots$ \\\\\n",
       "\t16 & HUMATPSYB-DONOR-2217 & T & G & C & G & $\\dots$ \\\\\n",
       "\t17 & HUMMYHC-NEG-5941 & A & T & A & T & $\\dots$ \\\\\n",
       "\t18 & HUMSODA-NEG-6361 & A & G & C & T & $\\dots$ \\\\\n",
       "\t19 & HUMAPOB10-NEG-301 & C & A & G & A & $\\dots$ \\\\\n",
       "\t20 & HUMA1GLY2-ACCEPTOR-3244 & T & C & T & C & $\\dots$ \\\\\n",
       "\t21 & HUMHF10-NEG-241 & A & A & G & G & $\\dots$ \\\\\n",
       "\t22 & HUMSODA-ACCEPTOR-7572 & G & T & T & T & $\\dots$ \\\\\n",
       "\t23 & CHPIGECA-DONOR-1313 & C & C & C & T & $\\dots$ \\\\\n",
       "\t24 & HUMBN51-NEG-1261 & G & G & C & G & $\\dots$ \\\\\n",
       "\t25 & HUMATPSYB-ACCEPTOR-3096 & G & T & A & T & $\\dots$ \\\\\n",
       "\t26 & HUMTHB-ACCEPTOR-20170 & C & C & T & G & $\\dots$ \\\\\n",
       "\t27 & HUMPLPSPC-DONOR-628 & A & G & C & A & $\\dots$ \\\\\n",
       "\t28 & HUMGRP78-ACCEPTOR-2145 & C & A & A & T & $\\dots$ \\\\\n",
       "\t29 & HUMCYPIIE-ACCEPTOR-12808 & A & C & T & C & $\\dots$ \\\\\n",
       "\t30 & HUMALDAR-NEG-1081 & A & G & G & C & $\\dots$ \\\\\n",
       "\t$\\dots$ & $\\dots$ & $\\dots$ & $\\dots$ & $\\dots$ & $\\dots$ &  \\\\\n",
       "\\end{tabular}\n"
      ],
      "text/plain": [
       "\u001b[1m636×61 DataFrame\u001b[0m\n",
       "\u001b[1m Row \u001b[0m│\u001b[1m Instance                 \u001b[0m\u001b[1m Position_-30 \u001b[0m\u001b[1m Position_-29 \u001b[0m\u001b[1m Position_-28 \u001b[0m\u001b[1m Pos\u001b[0m ⋯\n",
       "\u001b[1m     \u001b[0m│\u001b[90m String31                 \u001b[0m\u001b[90m String1      \u001b[0m\u001b[90m String1      \u001b[0m\u001b[90m String1      \u001b[0m\u001b[90m Str\u001b[0m ⋯\n",
       "─────┼──────────────────────────────────────────────────────────────────────────\n",
       "   1 │ HUMMHCW1B-ACCEPTOR-1398   G             G             A             C   ⋯\n",
       "   2 │ HUMIL1B-DONOR-3748        G             C             A             C\n",
       "   3 │ HUMACCYBA-ACCEPTOR-2599   A             G             C             T\n",
       "   4 │ HUMRGNTSA-NEG-2161        C             T             G             T\n",
       "   5 │ HUMMHCW1B-DONOR-3405      G             C             T             C   ⋯\n",
       "   6 │ HUMGCB1-ACCEPTOR-4081     C             C             G             G\n",
       "   7 │ HUM3ALPH-NEG-1            G             A             A             T\n",
       "   8 │ HUMA1GP01-NEG-301         G             C             G             G\n",
       "   9 │ HUMMYC3L-DONOR-402        C             C             G             C   ⋯\n",
       "  10 │ HUMA1ATP-DONOR-11057      A             C             A             G\n",
       "  11 │ HUMMHB27B-DONOR-960       T             G             C             T\n",
       "  ⋮  │            ⋮                   ⋮             ⋮             ⋮            ⋱\n",
       " 627 │ HUMP45C17-DONOR-2106      G             G             C             A\n",
       " 628 │ HUMMHDOB-NEG-4261         A             A             A             G   ⋯\n",
       " 629 │ HUMMHDRBK-NEG-1321        A             G             C             T\n",
       " 630 │ HUMCAPG-DONOR-375         C             C             T             T\n",
       " 631 │ HUMC3-NEG-3481            A             T             G             G\n",
       " 632 │ HUMPOLP-NEG-2341          T             C             G             C   ⋯\n",
       " 633 │ HUMATP1A2-ACCEPTOR-19381  T             T             T             C\n",
       " 634 │ HUMMHCP52-ACCEPTOR-2427   T             G             G             C\n",
       " 635 │ HUMFX-NEG-241             C             C             T             G\n",
       " 636 │ HUMGFIAB5-NEG-421         G             A             A             C   ⋯\n",
       "\u001b[36m                                                 57 columns and 615 rows omitted\u001b[0m"
      ]
     },
     "execution_count": 105,
     "metadata": {},
     "output_type": "execute_result"
    }
   ],
   "source": [
    "file_name = filter(x -> occursin(\".csv\", x), readdir(TEST_DIR))[1]\n",
    "file_path = joinpath(TEST_DIR, file_name)\n",
    "df = DataFrame(CSV.File(file_path))"
   ]
  },
  {
   "cell_type": "markdown",
   "metadata": {},
   "source": [
    "## Data preprocessing\n",
    "Note that when we work with testing data, we have to impute using the same values learned during training. This is to avoid data leakage."
   ]
  },
  {
   "cell_type": "code",
   "execution_count": 106,
   "metadata": {},
   "outputs": [
    {
     "data": {
      "text/html": [
       "<div class=\"data-frame\"><p>636 rows × 60 columns (omitted printing of 54 columns)</p><table class=\"data-frame\"><thead><tr><th></th><th>Position_-30</th><th>Position_-29</th><th>Position_-28</th><th>Position_-27</th><th>Position_-26</th><th>Position_-25</th></tr><tr><th></th><th title=\"String1\">String1</th><th title=\"String1\">String1</th><th title=\"String1\">String1</th><th title=\"String1\">String1</th><th title=\"String1\">String1</th><th title=\"String1\">String1</th></tr></thead><tbody><tr><th>1</th><td>G</td><td>G</td><td>A</td><td>C</td><td>G</td><td>G</td></tr><tr><th>2</th><td>G</td><td>C</td><td>A</td><td>C</td><td>C</td><td>T</td></tr><tr><th>3</th><td>A</td><td>G</td><td>C</td><td>T</td><td>A</td><td>A</td></tr><tr><th>4</th><td>C</td><td>T</td><td>G</td><td>T</td><td>C</td><td>T</td></tr><tr><th>5</th><td>G</td><td>C</td><td>T</td><td>C</td><td>T</td><td>G</td></tr><tr><th>6</th><td>C</td><td>C</td><td>G</td><td>G</td><td>A</td><td>T</td></tr><tr><th>7</th><td>G</td><td>A</td><td>A</td><td>T</td><td>T</td><td>C</td></tr><tr><th>8</th><td>G</td><td>C</td><td>G</td><td>G</td><td>G</td><td>A</td></tr><tr><th>9</th><td>C</td><td>C</td><td>G</td><td>C</td><td>T</td><td>C</td></tr><tr><th>10</th><td>A</td><td>C</td><td>A</td><td>G</td><td>A</td><td>G</td></tr><tr><th>11</th><td>T</td><td>G</td><td>C</td><td>T</td><td>C</td><td>C</td></tr><tr><th>12</th><td>T</td><td>G</td><td>G</td><td>C</td><td>C</td><td>T</td></tr><tr><th>13</th><td>G</td><td>T</td><td>G</td><td>A</td><td>A</td><td>C</td></tr><tr><th>14</th><td>C</td><td>C</td><td>T</td><td>G</td><td>C</td><td>T</td></tr><tr><th>15</th><td>T</td><td>C</td><td>T</td><td>C</td><td>C</td><td>T</td></tr><tr><th>16</th><td>T</td><td>G</td><td>C</td><td>G</td><td>G</td><td>G</td></tr><tr><th>17</th><td>A</td><td>T</td><td>A</td><td>T</td><td>G</td><td>C</td></tr><tr><th>18</th><td>A</td><td>G</td><td>C</td><td>T</td><td>G</td><td>A</td></tr><tr><th>19</th><td>C</td><td>A</td><td>G</td><td>A</td><td>A</td><td>T</td></tr><tr><th>20</th><td>T</td><td>C</td><td>T</td><td>C</td><td>A</td><td>C</td></tr><tr><th>21</th><td>A</td><td>A</td><td>G</td><td>G</td><td>T</td><td>G</td></tr><tr><th>22</th><td>G</td><td>T</td><td>T</td><td>T</td><td>T</td><td>T</td></tr><tr><th>23</th><td>C</td><td>C</td><td>C</td><td>T</td><td>C</td><td>G</td></tr><tr><th>24</th><td>G</td><td>G</td><td>C</td><td>G</td><td>C</td><td>C</td></tr><tr><th>25</th><td>G</td><td>T</td><td>A</td><td>T</td><td>A</td><td>A</td></tr><tr><th>26</th><td>C</td><td>C</td><td>T</td><td>G</td><td>A</td><td>G</td></tr><tr><th>27</th><td>A</td><td>G</td><td>C</td><td>A</td><td>A</td><td>A</td></tr><tr><th>28</th><td>C</td><td>A</td><td>A</td><td>T</td><td>A</td><td>C</td></tr><tr><th>29</th><td>A</td><td>C</td><td>T</td><td>C</td><td>A</td><td>C</td></tr><tr><th>30</th><td>A</td><td>G</td><td>G</td><td>C</td><td>C</td><td>T</td></tr><tr><th>&vellip;</th><td>&vellip;</td><td>&vellip;</td><td>&vellip;</td><td>&vellip;</td><td>&vellip;</td><td>&vellip;</td></tr></tbody></table></div>"
      ],
      "text/latex": [
       "\\begin{tabular}{r|ccccccc}\n",
       "\t& Position\\_-30 & Position\\_-29 & Position\\_-28 & Position\\_-27 & Position\\_-26 & Position\\_-25 & \\\\\n",
       "\t\\hline\n",
       "\t& String1 & String1 & String1 & String1 & String1 & String1 & \\\\\n",
       "\t\\hline\n",
       "\t1 & G & G & A & C & G & G & $\\dots$ \\\\\n",
       "\t2 & G & C & A & C & C & T & $\\dots$ \\\\\n",
       "\t3 & A & G & C & T & A & A & $\\dots$ \\\\\n",
       "\t4 & C & T & G & T & C & T & $\\dots$ \\\\\n",
       "\t5 & G & C & T & C & T & G & $\\dots$ \\\\\n",
       "\t6 & C & C & G & G & A & T & $\\dots$ \\\\\n",
       "\t7 & G & A & A & T & T & C & $\\dots$ \\\\\n",
       "\t8 & G & C & G & G & G & A & $\\dots$ \\\\\n",
       "\t9 & C & C & G & C & T & C & $\\dots$ \\\\\n",
       "\t10 & A & C & A & G & A & G & $\\dots$ \\\\\n",
       "\t11 & T & G & C & T & C & C & $\\dots$ \\\\\n",
       "\t12 & T & G & G & C & C & T & $\\dots$ \\\\\n",
       "\t13 & G & T & G & A & A & C & $\\dots$ \\\\\n",
       "\t14 & C & C & T & G & C & T & $\\dots$ \\\\\n",
       "\t15 & T & C & T & C & C & T & $\\dots$ \\\\\n",
       "\t16 & T & G & C & G & G & G & $\\dots$ \\\\\n",
       "\t17 & A & T & A & T & G & C & $\\dots$ \\\\\n",
       "\t18 & A & G & C & T & G & A & $\\dots$ \\\\\n",
       "\t19 & C & A & G & A & A & T & $\\dots$ \\\\\n",
       "\t20 & T & C & T & C & A & C & $\\dots$ \\\\\n",
       "\t21 & A & A & G & G & T & G & $\\dots$ \\\\\n",
       "\t22 & G & T & T & T & T & T & $\\dots$ \\\\\n",
       "\t23 & C & C & C & T & C & G & $\\dots$ \\\\\n",
       "\t24 & G & G & C & G & C & C & $\\dots$ \\\\\n",
       "\t25 & G & T & A & T & A & A & $\\dots$ \\\\\n",
       "\t26 & C & C & T & G & A & G & $\\dots$ \\\\\n",
       "\t27 & A & G & C & A & A & A & $\\dots$ \\\\\n",
       "\t28 & C & A & A & T & A & C & $\\dots$ \\\\\n",
       "\t29 & A & C & T & C & A & C & $\\dots$ \\\\\n",
       "\t30 & A & G & G & C & C & T & $\\dots$ \\\\\n",
       "\t$\\dots$ & $\\dots$ & $\\dots$ & $\\dots$ & $\\dots$ & $\\dots$ & $\\dots$ &  \\\\\n",
       "\\end{tabular}\n"
      ],
      "text/plain": [
       "\u001b[1m636×60 DataFrame\u001b[0m\n",
       "\u001b[1m Row \u001b[0m│\u001b[1m Position_-30 \u001b[0m\u001b[1m Position_-29 \u001b[0m\u001b[1m Position_-28 \u001b[0m\u001b[1m Position_-27 \u001b[0m\u001b[1m Position_-26 \u001b[0m\u001b[1m P\u001b[0m ⋯\n",
       "\u001b[1m     \u001b[0m│\u001b[90m String1      \u001b[0m\u001b[90m String1      \u001b[0m\u001b[90m String1      \u001b[0m\u001b[90m String1      \u001b[0m\u001b[90m String1      \u001b[0m\u001b[90m S\u001b[0m ⋯\n",
       "─────┼──────────────────────────────────────────────────────────────────────────\n",
       "   1 │ G             G             A             C             G             G ⋯\n",
       "   2 │ G             C             A             C             C             T\n",
       "   3 │ A             G             C             T             A             A\n",
       "   4 │ C             T             G             T             C             T\n",
       "   5 │ G             C             T             C             T             G ⋯\n",
       "   6 │ C             C             G             G             A             T\n",
       "   7 │ G             A             A             T             T             C\n",
       "   8 │ G             C             G             G             G             A\n",
       "   9 │ C             C             G             C             T             C ⋯\n",
       "  10 │ A             C             A             G             A             G\n",
       "  11 │ T             G             C             T             C             C\n",
       "  ⋮  │      ⋮             ⋮             ⋮             ⋮             ⋮          ⋱\n",
       " 627 │ G             G             C             A             A             G\n",
       " 628 │ A             A             A             G             G             T ⋯\n",
       " 629 │ A             G             C             T             T             C\n",
       " 630 │ C             C             T             T             T             C\n",
       " 631 │ A             T             G             G             C             C\n",
       " 632 │ T             C             G             C             T             T ⋯\n",
       " 633 │ T             T             T             C             C             T\n",
       " 634 │ T             G             G             C             C             A\n",
       " 635 │ C             C             T             G             A             C\n",
       " 636 │ G             A             A             C             A             C ⋯\n",
       "\u001b[36m                                                 55 columns and 615 rows omitted\u001b[0m"
      ]
     },
     "execution_count": 106,
     "metadata": {},
     "output_type": "execute_result"
    }
   ],
   "source": [
    "imputation_values = open(deserialize, IMPUTATION_FILE)\n",
    "for column in nullable_features\n",
    "    df[!, Symbol(column)] .= coalesce.(df[!, Symbol(column)], get(imputation_values, string(column), missing))\n",
    "end\n",
    "\n",
    "# Saving the id column in a different variable\n",
    "ids = df[!, Symbol(id_feature)]\n",
    "\n",
    "# Dropping the id from the DataFrame\n",
    "select!(df, Not([Symbol(id_feature)]))"
   ]
  },
  {
   "cell_type": "markdown",
   "metadata": {},
   "source": [
    "### Encoding\n",
    "We encode the data using the same encoder that we saved during training."
   ]
  },
  {
   "cell_type": "code",
   "execution_count": 107,
   "metadata": {},
   "outputs": [],
   "source": [
    "loaded_top_categories = open(deserialize, TOP_CATEGORIES)\n",
    "\n",
    "# Function to one-hot encode only the top 3 categories\n",
    "function one_hot_top_categories!(df, top_categories)\n",
    "    for (feature, top_cats) in top_categories\n",
    "        if length(top_cats) == 2  # Handle the binary case\n",
    "            # Assuming the first category in top_cats is treated as 'true'\n",
    "            new_col_name = \"$(feature)_binary\"\n",
    "            df[!, new_col_name] = df[!, feature] .== top_cats[1]\n",
    "        else  # Handle the general case\n",
    "            for cat in top_cats\n",
    "                new_col_name = \"$(feature)_$(cat)\"\n",
    "                df[!, new_col_name] = df[!, feature] .== cat\n",
    "            end\n",
    "        end\n",
    "        select!(df, Not(Symbol(feature)))  # Drop the original feature column\n",
    "    end\n",
    "end\n",
    "\n",
    "\n",
    "\n",
    "one_hot_top_categories!(df, loaded_top_categories)"
   ]
  },
  {
   "cell_type": "markdown",
   "metadata": {},
   "source": [
    "### Making predictions & Creating Predictions DataFrame\n",
    "Using the model saved during training."
   ]
  },
  {
   "cell_type": "code",
   "execution_count": 108,
   "metadata": {},
   "outputs": [
    {
     "data": {
      "text/plain": [
       "\"/Users/moo/Desktop/Upwork/rt-ML/Regression/Julia/Julia-Random-Forest-Classifier-Template/model_inputs_outputs/outputs/predictions/predictions.csv\""
      ]
     },
     "execution_count": 108,
     "metadata": {},
     "output_type": "execute_result"
    }
   ],
   "source": [
    "model = open(deserialize, PREDICTOR_FILE_PATH)\n",
    "predictions = apply_forest_proba(model, Matrix(df), String.(target_classes))\n",
    "predictions = DataFrame(predictions, Symbol.(target_classes))\n",
    "insertcols!(predictions, 1, id_feature => ids)\n",
    "CSV.write(PREDICTIONS_FILE, predictions)"
   ]
  },
  {
   "cell_type": "code",
   "execution_count": null,
   "metadata": {},
   "outputs": [],
   "source": []
  }
 ],
 "metadata": {
  "kernelspec": {
   "display_name": "Julia 1.9.3",
   "language": "julia",
   "name": "julia-1.9"
  },
  "language_info": {
   "file_extension": ".jl",
   "mimetype": "application/julia",
   "name": "julia",
   "version": "1.9.3"
  }
 },
 "nbformat": 4,
 "nbformat_minor": 4
}
