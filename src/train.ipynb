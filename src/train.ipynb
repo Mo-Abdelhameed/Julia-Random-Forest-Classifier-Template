{
 "cells": [
  {
   "cell_type": "markdown",
   "metadata": {},
   "source": [
    "## Imports"
   ]
  },
  {
   "cell_type": "code",
   "execution_count": 75,
   "metadata": {},
   "outputs": [],
   "source": [
    "# DO NOT CHANGE THESE LINES\n",
    "using Suppressor\n",
    "@suppress begin\n",
    "    using DataFrames, CSV, Random, Statistics, Serialization, LazyJSON, StatsBase, DecisionTree, ScientificTypes, MLJ\n",
    "end"
   ]
  },
  {
   "cell_type": "markdown",
   "metadata": {},
   "source": [
    "## Paths"
   ]
  },
  {
   "cell_type": "code",
   "execution_count": 76,
   "metadata": {},
   "outputs": [],
   "source": [
    "# DO NOT CHANGE THESE LINES\n",
    "ROOT_DIR = dirname(pwd())\n",
    "MODEL_INPUTS_OUTPUTS = joinpath(ROOT_DIR, \"model_inputs_outputs\")\n",
    "INPUT_DIR = joinpath(MODEL_INPUTS_OUTPUTS, \"inputs\")\n",
    "INPUT_SCHEMA_DIR = joinpath(INPUT_DIR, \"schema\")\n",
    "DATA_DIR = joinpath(INPUT_DIR, \"data\")\n",
    "TRAIN_DIR = joinpath(DATA_DIR, \"training\")\n",
    "TEST_DIR = joinpath(DATA_DIR, \"testing\")\n",
    "MODEL_PATH = joinpath(MODEL_INPUTS_OUTPUTS, \"model\")\n",
    "MODEL_ARTIFACTS_PATH = joinpath(MODEL_PATH, \"artifacts\")\n",
    "OHE_ENCODER_FILE = joinpath(MODEL_ARTIFACTS_PATH, \"ohe.jld2\")\n",
    "PREDICTOR_DIR_PATH = joinpath(MODEL_ARTIFACTS_PATH, \"predictor\")\n",
    "PREDICTOR_FILE_PATH = joinpath(PREDICTOR_DIR_PATH, \"predictor.ser\")\n",
    "IMPUTATION_FILE = joinpath(MODEL_ARTIFACTS_PATH, \"imputation.ser\")\n",
    "TOP_CATEGORIES = joinpath(MODEL_ARTIFACTS_PATH, \"top_categories.ser\")\n",
    "TARGET_LEVELS = joinpath(MODEL_ARTIFACTS_PATH, \"target_levels.ser\")\n",
    "\n",
    "if !isdir(MODEL_ARTIFACTS_PATH)\n",
    "    mkdir(MODEL_ARTIFACTS_PATH)\n",
    "end\n",
    "if !isdir(PREDICTOR_DIR_PATH)\n",
    "    mkdir(PREDICTOR_DIR_PATH)\n",
    "end"
   ]
  },
  {
   "cell_type": "markdown",
   "metadata": {},
   "source": [
    "### Reading the schema\n",
    "The schema contains metadata about the datasets. We will use the scehma to get information about the type of each feature (NUMERIC or CATEGORICAL) and the id and target features, this will be helpful in preprocessing stage."
   ]
  },
  {
   "cell_type": "code",
   "execution_count": 77,
   "metadata": {},
   "outputs": [
    {
     "data": {
      "text/plain": [
       "\"evaluation\""
      ]
     },
     "execution_count": 77,
     "metadata": {},
     "output_type": "execute_result"
    }
   ],
   "source": [
    "# Reading a schema from a JSON file and extracting features\n",
    "file_name = first(filter(x -> endswith(x, \"json\"), readdir(INPUT_SCHEMA_DIR)))\n",
    "schema_path = joinpath(INPUT_SCHEMA_DIR, file_name)\n",
    "schema_string = read(schema_path, String)\n",
    "schema = LazyJSON.parse(schema_string)\n",
    "\n",
    "features = schema[\"features\"]\n",
    "numeric_features = String[]\n",
    "categorical_features = String[]\n",
    "nullable_features = String[]\n",
    "\n",
    "for f in features\n",
    "    if f[\"dataType\"] == \"CATEGORICAL\"\n",
    "        push!(categorical_features, f[\"name\"])\n",
    "    else\n",
    "        push!(numeric_features, f[\"name\"])\n",
    "    end\n",
    "    if f[\"nullable\"]\n",
    "        push!(nullable_features, f[\"name\"])\n",
    "    end\n",
    "end\n",
    "\n",
    "# Extracting ID and target features\n",
    "id_feature = schema[\"id\"][\"name\"]\n",
    "target_feature = schema[\"target\"][\"name\"]\n"
   ]
  },
  {
   "cell_type": "markdown",
   "metadata": {},
   "source": [
    "### Reading training data"
   ]
  },
  {
   "cell_type": "code",
   "execution_count": 78,
   "metadata": {},
   "outputs": [
    {
     "data": {
      "text/html": [
       "<div class=\"data-frame\"><p>1,382 rows × 8 columns</p><table class=\"data-frame\"><thead><tr><th></th><th>id</th><th>buying</th><th>maint</th><th>doors</th><th>persons</th><th>lug_boot</th><th>safety</th><th>evaluation</th></tr><tr><th></th><th title=\"Int64\">Int64</th><th title=\"String7\">String7</th><th title=\"String7\">String7</th><th title=\"String7\">String7</th><th title=\"String7\">String7</th><th title=\"String7\">String7</th><th title=\"String7\">String7</th><th title=\"String7\">String7</th></tr></thead><tbody><tr><th>1</th><td>1539</td><td>low</td><td>med</td><td>3</td><td>2</td><td>small</td><td>low</td><td>unacc</td></tr><tr><th>2</th><td>748</td><td>high</td><td>med</td><td>5more</td><td>more</td><td>small</td><td>med</td><td>unacc</td></tr><tr><th>3</th><td>1648</td><td>low</td><td>low</td><td>3</td><td>2</td><td>small</td><td>med</td><td>unacc</td></tr><tr><th>4</th><td>68</td><td>vhigh</td><td>vhigh</td><td>4</td><td>4</td><td>med</td><td>high</td><td>unacc</td></tr><tr><th>5</th><td>1273</td><td>med</td><td>low</td><td>5more</td><td>2</td><td>med</td><td>med</td><td>unacc</td></tr><tr><th>6</th><td>1540</td><td>low</td><td>med</td><td>3</td><td>2</td><td>small</td><td>med</td><td>unacc</td></tr><tr><th>7</th><td>712</td><td>high</td><td>med</td><td>4</td><td>4</td><td>small</td><td>med</td><td>unacc</td></tr><tr><th>8</th><td>836</td><td>high</td><td>low</td><td>4</td><td>more</td><td>big</td><td>high</td><td>acc</td></tr><tr><th>9</th><td>1128</td><td>med</td><td>med</td><td>3</td><td>more</td><td>med</td><td>low</td><td>unacc</td></tr><tr><th>10</th><td>741</td><td>high</td><td>med</td><td>5more</td><td>4</td><td>med</td><td>low</td><td>unacc</td></tr><tr><th>11</th><td>767</td><td>high</td><td>low</td><td>2</td><td>4</td><td>small</td><td>high</td><td>acc</td></tr><tr><th>12</th><td>367</td><td>vhigh</td><td>low</td><td>3</td><td>4</td><td>big</td><td>med</td><td>acc</td></tr><tr><th>13</th><td>635</td><td>high</td><td>high</td><td>5more</td><td>4</td><td>med</td><td>high</td><td>acc</td></tr><tr><th>14</th><td>1112</td><td>med</td><td>med</td><td>3</td><td>2</td><td>med</td><td>high</td><td>unacc</td></tr><tr><th>15</th><td>279</td><td>vhigh</td><td>med</td><td>4</td><td>4</td><td>small</td><td>low</td><td>unacc</td></tr><tr><th>16</th><td>844</td><td>high</td><td>low</td><td>5more</td><td>2</td><td>big</td><td>med</td><td>unacc</td></tr><tr><th>17</th><td>1464</td><td>low</td><td>high</td><td>4</td><td>2</td><td>big</td><td>low</td><td>unacc</td></tr><tr><th>18</th><td>1142</td><td>med</td><td>med</td><td>4</td><td>2</td><td>big</td><td>high</td><td>unacc</td></tr><tr><th>19</th><td>950</td><td>med</td><td>vhigh</td><td>5more</td><td>2</td><td>med</td><td>high</td><td>unacc</td></tr><tr><th>20</th><td>981</td><td>med</td><td>high</td><td>2</td><td>4</td><td>small</td><td>low</td><td>unacc</td></tr><tr><th>21</th><td>581</td><td>high</td><td>high</td><td>3</td><td>4</td><td>med</td><td>high</td><td>acc</td></tr><tr><th>22</th><td>1556</td><td>low</td><td>med</td><td>3</td><td>4</td><td>big</td><td>high</td><td>vgood</td></tr><tr><th>23</th><td>63</td><td>vhigh</td><td>vhigh</td><td>4</td><td>4</td><td>small</td><td>low</td><td>unacc</td></tr><tr><th>24</th><td>1520</td><td>low</td><td>med</td><td>2</td><td>2</td><td>big</td><td>high</td><td>unacc</td></tr><tr><th>25</th><td>147</td><td>vhigh</td><td>high</td><td>3</td><td>4</td><td>med</td><td>low</td><td>unacc</td></tr><tr><th>26</th><td>855</td><td>high</td><td>low</td><td>5more</td><td>more</td><td>small</td><td>low</td><td>unacc</td></tr><tr><th>27</th><td>1502</td><td>low</td><td>high</td><td>5more</td><td>4</td><td>big</td><td>high</td><td>vgood</td></tr><tr><th>28</th><td>452</td><td>high</td><td>vhigh</td><td>2</td><td>more</td><td>small</td><td>high</td><td>unacc</td></tr><tr><th>29</th><td>577</td><td>high</td><td>high</td><td>3</td><td>4</td><td>small</td><td>med</td><td>unacc</td></tr><tr><th>30</th><td>1313</td><td>low</td><td>vhigh</td><td>2</td><td>4</td><td>big</td><td>high</td><td>acc</td></tr><tr><th>&vellip;</th><td>&vellip;</td><td>&vellip;</td><td>&vellip;</td><td>&vellip;</td><td>&vellip;</td><td>&vellip;</td><td>&vellip;</td><td>&vellip;</td></tr></tbody></table></div>"
      ],
      "text/latex": [
       "\\begin{tabular}{r|cccccccc}\n",
       "\t& id & buying & maint & doors & persons & lug\\_boot & safety & evaluation\\\\\n",
       "\t\\hline\n",
       "\t& Int64 & String7 & String7 & String7 & String7 & String7 & String7 & String7\\\\\n",
       "\t\\hline\n",
       "\t1 & 1539 & low & med & 3 & 2 & small & low & unacc \\\\\n",
       "\t2 & 748 & high & med & 5more & more & small & med & unacc \\\\\n",
       "\t3 & 1648 & low & low & 3 & 2 & small & med & unacc \\\\\n",
       "\t4 & 68 & vhigh & vhigh & 4 & 4 & med & high & unacc \\\\\n",
       "\t5 & 1273 & med & low & 5more & 2 & med & med & unacc \\\\\n",
       "\t6 & 1540 & low & med & 3 & 2 & small & med & unacc \\\\\n",
       "\t7 & 712 & high & med & 4 & 4 & small & med & unacc \\\\\n",
       "\t8 & 836 & high & low & 4 & more & big & high & acc \\\\\n",
       "\t9 & 1128 & med & med & 3 & more & med & low & unacc \\\\\n",
       "\t10 & 741 & high & med & 5more & 4 & med & low & unacc \\\\\n",
       "\t11 & 767 & high & low & 2 & 4 & small & high & acc \\\\\n",
       "\t12 & 367 & vhigh & low & 3 & 4 & big & med & acc \\\\\n",
       "\t13 & 635 & high & high & 5more & 4 & med & high & acc \\\\\n",
       "\t14 & 1112 & med & med & 3 & 2 & med & high & unacc \\\\\n",
       "\t15 & 279 & vhigh & med & 4 & 4 & small & low & unacc \\\\\n",
       "\t16 & 844 & high & low & 5more & 2 & big & med & unacc \\\\\n",
       "\t17 & 1464 & low & high & 4 & 2 & big & low & unacc \\\\\n",
       "\t18 & 1142 & med & med & 4 & 2 & big & high & unacc \\\\\n",
       "\t19 & 950 & med & vhigh & 5more & 2 & med & high & unacc \\\\\n",
       "\t20 & 981 & med & high & 2 & 4 & small & low & unacc \\\\\n",
       "\t21 & 581 & high & high & 3 & 4 & med & high & acc \\\\\n",
       "\t22 & 1556 & low & med & 3 & 4 & big & high & vgood \\\\\n",
       "\t23 & 63 & vhigh & vhigh & 4 & 4 & small & low & unacc \\\\\n",
       "\t24 & 1520 & low & med & 2 & 2 & big & high & unacc \\\\\n",
       "\t25 & 147 & vhigh & high & 3 & 4 & med & low & unacc \\\\\n",
       "\t26 & 855 & high & low & 5more & more & small & low & unacc \\\\\n",
       "\t27 & 1502 & low & high & 5more & 4 & big & high & vgood \\\\\n",
       "\t28 & 452 & high & vhigh & 2 & more & small & high & unacc \\\\\n",
       "\t29 & 577 & high & high & 3 & 4 & small & med & unacc \\\\\n",
       "\t30 & 1313 & low & vhigh & 2 & 4 & big & high & acc \\\\\n",
       "\t$\\dots$ & $\\dots$ & $\\dots$ & $\\dots$ & $\\dots$ & $\\dots$ & $\\dots$ & $\\dots$ & $\\dots$ \\\\\n",
       "\\end{tabular}\n"
      ],
      "text/plain": [
       "\u001b[1m1382×8 DataFrame\u001b[0m\n",
       "\u001b[1m  Row \u001b[0m│\u001b[1m id    \u001b[0m\u001b[1m buying  \u001b[0m\u001b[1m maint   \u001b[0m\u001b[1m doors   \u001b[0m\u001b[1m persons \u001b[0m\u001b[1m lug_boot \u001b[0m\u001b[1m safety  \u001b[0m\u001b[1m evaluati\u001b[0m ⋯\n",
       "\u001b[1m      \u001b[0m│\u001b[90m Int64 \u001b[0m\u001b[90m String7 \u001b[0m\u001b[90m String7 \u001b[0m\u001b[90m String7 \u001b[0m\u001b[90m String7 \u001b[0m\u001b[90m String7  \u001b[0m\u001b[90m String7 \u001b[0m\u001b[90m String7 \u001b[0m ⋯\n",
       "──────┼─────────────────────────────────────────────────────────────────────────\n",
       "    1 │  1539  low      med      3        2        small     low      unacc    ⋯\n",
       "    2 │   748  high     med      5more    more     small     med      unacc\n",
       "    3 │  1648  low      low      3        2        small     med      unacc\n",
       "    4 │    68  vhigh    vhigh    4        4        med       high     unacc\n",
       "    5 │  1273  med      low      5more    2        med       med      unacc    ⋯\n",
       "    6 │  1540  low      med      3        2        small     med      unacc\n",
       "    7 │   712  high     med      4        4        small     med      unacc\n",
       "    8 │   836  high     low      4        more     big       high     acc\n",
       "    9 │  1128  med      med      3        more     med       low      unacc    ⋯\n",
       "   10 │   741  high     med      5more    4        med       low      unacc\n",
       "   11 │   767  high     low      2        4        small     high     acc\n",
       "  ⋮   │   ⋮       ⋮        ⋮        ⋮        ⋮        ⋮         ⋮         ⋮    ⋱\n",
       " 1373 │   841  high     low      5more    2        med       med      unacc\n",
       " 1374 │  1222  med      low      3        2        big       med      unacc    ⋯\n",
       " 1375 │  1624  low      low      2        2        med       med      unacc\n",
       " 1376 │   673  high     med      2        more     big       med      acc\n",
       " 1377 │  1119  med      med      3        4        med       low      unacc\n",
       " 1378 │   245  vhigh    med      3        2        small     high     unacc    ⋯\n",
       " 1379 │  1299  low      vhigh    2        2        med       low      unacc\n",
       " 1380 │   295  vhigh    med      4        more     big       med      acc\n",
       " 1381 │   318  vhigh    med      5more    more     med       low      unacc\n",
       " 1382 │   288  vhigh    med      4        more     small     low      unacc    ⋯\n",
       "\u001b[36m                                                  1 column and 1361 rows omitted\u001b[0m"
      ]
     },
     "execution_count": 78,
     "metadata": {},
     "output_type": "execute_result"
    }
   ],
   "source": [
    "# Read the CSV file into a DataFrame\n",
    "file_name = first(filter(x -> endswith(x, \".csv\"), readdir(TRAIN_DIR)))\n",
    "file_path = joinpath(TRAIN_DIR, file_name)\n",
    "train_df = DataFrame(CSV.File(file_path))"
   ]
  },
  {
   "cell_type": "markdown",
   "metadata": {},
   "source": [
    "## Data Preprocessing\n",
    "Data preprocessing is very important before training the model, as the data may contain missing values in some cells. Moreover, most of the learning algorithms cannot work with categorical data, thus the data has to be encoded.\n",
    "\n",
    "In this section we will impute the missing values and encode the categorical features. Afterwards the data will be ready to train the model."
   ]
  },
  {
   "cell_type": "markdown",
   "metadata": {},
   "source": [
    "##### Imputing missing data\n",
    "> The median value will be used to impute missing values of the numeric features and the mode will be used to impute categorical features.\n",
    "\n",
    "##### You can add your own preprocessing steps such as:\n",
    "<ul>\n",
    "<li>Normalization</li> <br>\n",
    "<li>Outlier removal</li><br>\n",
    "<li>Dropping or adding features</li><br>\n",
    "</ul>\n",
    "\n",
    "### Important note:\n",
    "<p> \n",
    "Saving the values used for imputation during training step is crucial. These values will be used to impute missing data in the testing set. This is very important to avoid the well known problem of data leakage. During testing, you should not make any assumptions about the data in hand, alternatively anything needed during the testing phase should be learned from the training phase. This is why we are creating a dictionary of values used during training to reuse these values during testing.\n",
    "</p>\n"
   ]
  },
  {
   "cell_type": "code",
   "execution_count": 79,
   "metadata": {},
   "outputs": [],
   "source": [
    "# Imputing missing data\n",
    "imputation_values = Dict{String, Any}()\n",
    "\n",
    "for column in nullable_features\n",
    "    if column in numeric_features\n",
    "        value = median(skipmissing(train_df[!, column]))\n",
    "    else\n",
    "        value = mode(skipmissing(train_df[!, column]))\n",
    "    end\n",
    "    train_df[!, column] = coalesce.(train_df[!, column], value)\n",
    "    imputation_values[column] = value\n",
    "end\n",
    "\n",
    "# Serialize the imputation_values dictionary to a binary file\n",
    "open(IMPUTATION_FILE, \"w\") do io\n",
    "    serialize(io, imputation_values)\n",
    "end\n"
   ]
  },
  {
   "cell_type": "markdown",
   "metadata": {},
   "source": [
    "##### Encoding Categorical features\n",
    "<p>\n",
    "The id column is just an identifier for the training example, so we will exclude it during the encoding phase.<br>\n",
    "Target feature will be label encoded in the next step.\n",
    "</p>\n"
   ]
  },
  {
   "cell_type": "code",
   "execution_count": 80,
   "metadata": {},
   "outputs": [
    {
     "data": {
      "text/plain": [
       "Dict{Any, Any} with 6 entries:\n",
       "  \"persons\"  => String7[\"4\", \"2\", \"more\"]\n",
       "  \"buying\"   => String7[\"high\", \"vhigh\", \"low\"]\n",
       "  \"safety\"   => String7[\"med\", \"low\", \"high\"]\n",
       "  \"doors\"    => String7[\"2\", \"3\", \"5more\"]\n",
       "  \"lug_boot\" => String7[\"small\", \"big\", \"med\"]\n",
       "  \"maint\"    => String7[\"high\", \"med\", \"low\"]"
      ]
     },
     "execution_count": 80,
     "metadata": {},
     "output_type": "execute_result"
    }
   ],
   "source": [
    "# Store the target column in a variable\n",
    "target = train_df[:, target_feature]\n",
    "\n",
    "# Drop the target column from the dataframe\n",
    "select!(train_df, Not(target_feature))\n",
    "\n",
    "# Function to get top 3 categories\n",
    "function get_top_categories(df, features, n=3)\n",
    "    top_cats = Dict()\n",
    "    for feature in features\n",
    "        col_data = df[!, feature]\n",
    "        category_counts = StatsBase.countmap(col_data)\n",
    "        sorted_categories = sort(collect(category_counts), by=x->x[2], rev=true)\n",
    "        \n",
    "        # Take minimum between n and the number of unique categories\n",
    "        num_categories = min(n, length(sorted_categories))\n",
    "        \n",
    "        top_cats[feature] = [x[1] for x in sorted_categories[1:num_categories]]\n",
    "    end\n",
    "    return top_cats\n",
    "end\n",
    "\n",
    "# Get top 3 categories for specific features\n",
    "top_categories = get_top_categories(train_df, categorical_features)\n"
   ]
  },
  {
   "cell_type": "code",
   "execution_count": 81,
   "metadata": {},
   "outputs": [],
   "source": [
    "# Function to one-hot encode only the top 3 categories\n",
    "function one_hot_top_categories!(df, top_categories)\n",
    "    for (feature, top_cats) in top_categories\n",
    "        if length(top_cats) == 2  # Handle the binary case\n",
    "            # Assuming the first category in top_cats is treated as 'true'\n",
    "            new_col_name = Symbol(string(feature, \"_binary\"))\n",
    "            df[!, new_col_name] = df[!, feature] .== top_cats[1]\n",
    "        else  # Handle the general case\n",
    "            for cat in top_cats\n",
    "                new_col_name = Symbol(string(feature, \"_\", cat))\n",
    "                df[!, new_col_name] = df[!, feature] .== cat\n",
    "            end\n",
    "        end\n",
    "        select!(df, Not(Symbol(feature)))  # Drop the original feature column\n",
    "    end\n",
    "end\n",
    "\n",
    "# Apply one-hot encoding\n",
    "one_hot_top_categories!(train_df, top_categories)\n",
    "\n",
    "# Serialize the top_categories dictionary to a binary file\n",
    "open(TOP_CATEGORIES, \"w\") do io\n",
    "    serialize(io, top_categories)\n",
    "end\n"
   ]
  },
  {
   "cell_type": "markdown",
   "metadata": {},
   "source": [
    "### Training the Classifier\n",
    "We choose Random Forest Classifier model, but feel free to try your own and compare the results."
   ]
  },
  {
   "cell_type": "code",
   "execution_count": 82,
   "metadata": {},
   "outputs": [],
   "source": [
    "x_train = Matrix(train_df[:, Not([id_feature])])\n",
    "\n",
    "# train random forest classifier\n",
    "# using 2 random features, 10 trees, 0.5 portion of samples per tree, and a maximum tree depth of 6\n",
    "model = build_forest(string.(target), x_train, 2, 10, 0.5, 6)\n",
    "\n",
    "open(PREDICTOR_FILE_PATH, \"w\") do io\n",
    "    serialize(io, model)\n",
    "end"
   ]
  },
  {
   "cell_type": "code",
   "execution_count": null,
   "metadata": {},
   "outputs": [],
   "source": []
  }
 ],
 "metadata": {
  "kernelspec": {
   "display_name": "Julia 1.9.3",
   "language": "julia",
   "name": "julia-1.9"
  },
  "language_info": {
   "file_extension": ".jl",
   "mimetype": "application/julia",
   "name": "julia",
   "version": "1.9.3"
  },
  "orig_nbformat": 4
 },
 "nbformat": 4,
 "nbformat_minor": 2
}
