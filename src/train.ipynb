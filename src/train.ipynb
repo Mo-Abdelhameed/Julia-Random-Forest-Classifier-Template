{
 "cells": [
  {
   "cell_type": "markdown",
   "metadata": {},
   "source": [
    "## Imports"
   ]
  },
  {
   "cell_type": "code",
   "execution_count": 56,
   "metadata": {},
   "outputs": [],
   "source": [
    "# DO NOT CHANGE THESE LINES\n",
    "using Suppressor\n",
    "@suppress begin\n",
    "    using DataFrames, CSV, Random, Statistics, Serialization, LazyJSON, StatsBase, DecisionTree, ScientificTypes, MLJ\n",
    "end"
   ]
  },
  {
   "cell_type": "markdown",
   "metadata": {},
   "source": [
    "## Paths"
   ]
  },
  {
   "cell_type": "code",
   "execution_count": 57,
   "metadata": {},
   "outputs": [],
   "source": [
    "# DO NOT CHANGE THESE LINES\n",
    "ROOT_DIR = dirname(pwd())\n",
    "MODEL_INPUTS_OUTPUTS = joinpath(ROOT_DIR, \"model_inputs_outputs\")\n",
    "INPUT_DIR = joinpath(MODEL_INPUTS_OUTPUTS, \"inputs\")\n",
    "INPUT_SCHEMA_DIR = joinpath(INPUT_DIR, \"schema\")\n",
    "DATA_DIR = joinpath(INPUT_DIR, \"data\")\n",
    "TRAIN_DIR = joinpath(DATA_DIR, \"training\")\n",
    "TEST_DIR = joinpath(DATA_DIR, \"testing\")\n",
    "MODEL_PATH = joinpath(MODEL_INPUTS_OUTPUTS, \"model\")\n",
    "MODEL_ARTIFACTS_PATH = joinpath(MODEL_PATH, \"artifacts\")\n",
    "OHE_ENCODER_FILE = joinpath(MODEL_ARTIFACTS_PATH, \"ohe.jld2\")\n",
    "PREDICTOR_DIR_PATH = joinpath(MODEL_ARTIFACTS_PATH, \"predictor\")\n",
    "PREDICTOR_FILE_PATH = joinpath(PREDICTOR_DIR_PATH, \"predictor.ser\")\n",
    "IMPUTATION_FILE = joinpath(MODEL_ARTIFACTS_PATH, \"imputation.ser\")\n",
    "TOP_CATEGORIES = joinpath(MODEL_ARTIFACTS_PATH, \"top_categories.ser\")\n",
    "TARGET_LEVELS = joinpath(MODEL_ARTIFACTS_PATH, \"target_levels.ser\")\n",
    "\n",
    "if !isdir(MODEL_ARTIFACTS_PATH)\n",
    "    mkdir(MODEL_ARTIFACTS_PATH)\n",
    "end\n",
    "if !isdir(PREDICTOR_DIR_PATH)\n",
    "    mkdir(PREDICTOR_DIR_PATH)\n",
    "end"
   ]
  },
  {
   "cell_type": "markdown",
   "metadata": {},
   "source": [
    "### Reading the schema\n",
    "The schema contains metadata about the datasets. We will use the scehma to get information about the type of each feature (NUMERIC or CATEGORICAL) and the id and target features, this will be helpful in preprocessing stage."
   ]
  },
  {
   "cell_type": "code",
   "execution_count": 58,
   "metadata": {},
   "outputs": [
    {
     "data": {
      "text/plain": [
       "\"Class\""
      ]
     },
     "execution_count": 58,
     "metadata": {},
     "output_type": "execute_result"
    }
   ],
   "source": [
    "# Reading a schema from a JSON file and extracting features\n",
    "file_name = first(filter(x -> endswith(x, \"json\"), readdir(INPUT_SCHEMA_DIR)))\n",
    "schema_path = joinpath(INPUT_SCHEMA_DIR, file_name)\n",
    "schema_string = read(schema_path, String)\n",
    "schema = LazyJSON.parse(schema_string)\n",
    "\n",
    "features = schema[\"features\"]\n",
    "numeric_features = String[]\n",
    "categorical_features = String[]\n",
    "nullable_features = String[]\n",
    "\n",
    "for f in features\n",
    "    if f[\"dataType\"] == \"CATEGORICAL\"\n",
    "        push!(categorical_features, f[\"name\"])\n",
    "    else\n",
    "        push!(numeric_features, f[\"name\"])\n",
    "    end\n",
    "    if f[\"nullable\"]\n",
    "        push!(nullable_features, f[\"name\"])\n",
    "    end\n",
    "end\n",
    "\n",
    "# Extracting ID and target features\n",
    "id_feature = schema[\"id\"][\"name\"]\n",
    "target_feature = schema[\"target\"][\"name\"]\n"
   ]
  },
  {
   "cell_type": "markdown",
   "metadata": {},
   "source": [
    "### Reading training data"
   ]
  },
  {
   "cell_type": "code",
   "execution_count": 59,
   "metadata": {},
   "outputs": [
    {
     "data": {
      "text/html": [
       "<div class=\"data-frame\"><p>2,542 rows × 62 columns (omitted printing of 56 columns)</p><table class=\"data-frame\"><thead><tr><th></th><th>Class</th><th>Instance</th><th>Position_-30</th><th>Position_-29</th><th>Position_-28</th><th>Position_-27</th></tr><tr><th></th><th title=\"String3\">String3</th><th title=\"String31\">String31</th><th title=\"String1\">String1</th><th title=\"String1\">String1</th><th title=\"String1\">String1</th><th title=\"String1\">String1</th></tr></thead><tbody><tr><th>1</th><td>N</td><td>HUMHBB-NEG-10321</td><td>T</td><td>A</td><td>G</td><td>A</td></tr><tr><th>2</th><td>EI</td><td>HUMRPS17A-DONOR-2291</td><td>C</td><td>C</td><td>T</td><td>G</td></tr><tr><th>3</th><td>N</td><td>HUMINIFI-NEG-481</td><td>A</td><td>T</td><td>T</td><td>G</td></tr><tr><th>4</th><td>N</td><td>HUMER41-NEG-3661</td><td>G</td><td>T</td><td>G</td><td>T</td></tr><tr><th>5</th><td>N</td><td>HUMRTVLH2-NEG-4681</td><td>A</td><td>A</td><td>T</td><td>T</td></tr><tr><th>6</th><td>N</td><td>HUMTHMA-NEG-121</td><td>C</td><td>T</td><td>T</td><td>G</td></tr><tr><th>7</th><td>EI</td><td>HUMSAACT-DONOR-2499</td><td>C</td><td>T</td><td>G</td><td>A</td></tr><tr><th>8</th><td>IE</td><td>CHPIGECA-ACCEPTOR-585</td><td>C</td><td>A</td><td>A</td><td>C</td></tr><tr><th>9</th><td>IE</td><td>HUMACTGA-ACCEPTOR-886</td><td>G</td><td>C</td><td>C</td><td>C</td></tr><tr><th>10</th><td>N</td><td>HUMTFPB-NEG-421</td><td>C</td><td>T</td><td>T</td><td>C</td></tr><tr><th>11</th><td>N</td><td>HUMSIGMG3-NEG-301</td><td>A</td><td>C</td><td>A</td><td>C</td></tr><tr><th>12</th><td>N</td><td>HUMOTNPI-NEG-481</td><td>A</td><td>T</td><td>C</td><td>C</td></tr><tr><th>13</th><td>EI</td><td>HUMA1GLY2-DONOR-3606</td><td>T</td><td>C</td><td>A</td><td>G</td></tr><tr><th>14</th><td>EI</td><td>HUMAPOCII-DONOR-3291</td><td>A</td><td>T</td><td>A</td><td>C</td></tr><tr><th>15</th><td>N</td><td>HUMCYCB-NEG-181</td><td>C</td><td>T</td><td>G</td><td>C</td></tr><tr><th>16</th><td>EI</td><td>HUMCP21OHC-DONOR-2878</td><td>C</td><td>T</td><td>T</td><td>G</td></tr><tr><th>17</th><td>IE</td><td>HUMATP1A2-ACCEPTOR-9720</td><td>C</td><td>A</td><td>G</td><td>G</td></tr><tr><th>18</th><td>N</td><td>HUMHSP70D-NEG-1441</td><td>A</td><td>G</td><td>A</td><td>A</td></tr><tr><th>19</th><td>N</td><td>HUMVIP1-NEG-421</td><td>T</td><td>T</td><td>A</td><td>T</td></tr><tr><th>20</th><td>EI</td><td>HUMA1ATP-DONOR-7932</td><td>T</td><td>T</td><td>G</td><td>C</td></tr><tr><th>21</th><td>EI</td><td>HUMCP21OH-DONOR-1541</td><td>G</td><td>T</td><td>G</td><td>G</td></tr><tr><th>22</th><td>N</td><td>HUMTFPB-NEG-9541</td><td>C</td><td>C</td><td>A</td><td>A</td></tr><tr><th>23</th><td>IE</td><td>HUMHPRTB-ACCEPTOR-16573</td><td>T</td><td>C</td><td>T</td><td>A</td></tr><tr><th>24</th><td>N</td><td>HUMSPR1B-NEG-181</td><td>G</td><td>C</td><td>C</td><td>C</td></tr><tr><th>25</th><td>IE</td><td>HUMPNMTA-ACCEPTOR-3450</td><td>C</td><td>T</td><td>T</td><td>G</td></tr><tr><th>26</th><td>EI</td><td>HUMMHCP42-DONOR-3057</td><td>A</td><td>T</td><td>C</td><td>G</td></tr><tr><th>27</th><td>N</td><td>HUMIFNB3-NEG-10201</td><td>A</td><td>C</td><td>T</td><td>T</td></tr><tr><th>28</th><td>N</td><td>HUMTNFX-NEG-1681</td><td>T</td><td>A</td><td>G</td><td>G</td></tr><tr><th>29</th><td>N</td><td>HUMICAM1-NEG-481</td><td>C</td><td>C</td><td>C</td><td>C</td></tr><tr><th>30</th><td>N</td><td>HUMGFIBPA-NEG-1441</td><td>A</td><td>C</td><td>A</td><td>T</td></tr><tr><th>&vellip;</th><td>&vellip;</td><td>&vellip;</td><td>&vellip;</td><td>&vellip;</td><td>&vellip;</td><td>&vellip;</td></tr></tbody></table></div>"
      ],
      "text/latex": [
       "\\begin{tabular}{r|ccccccc}\n",
       "\t& Class & Instance & Position\\_-30 & Position\\_-29 & Position\\_-28 & Position\\_-27 & \\\\\n",
       "\t\\hline\n",
       "\t& String3 & String31 & String1 & String1 & String1 & String1 & \\\\\n",
       "\t\\hline\n",
       "\t1 & N & HUMHBB-NEG-10321 & T & A & G & A & $\\dots$ \\\\\n",
       "\t2 & EI & HUMRPS17A-DONOR-2291 & C & C & T & G & $\\dots$ \\\\\n",
       "\t3 & N & HUMINIFI-NEG-481 & A & T & T & G & $\\dots$ \\\\\n",
       "\t4 & N & HUMER41-NEG-3661 & G & T & G & T & $\\dots$ \\\\\n",
       "\t5 & N & HUMRTVLH2-NEG-4681 & A & A & T & T & $\\dots$ \\\\\n",
       "\t6 & N & HUMTHMA-NEG-121 & C & T & T & G & $\\dots$ \\\\\n",
       "\t7 & EI & HUMSAACT-DONOR-2499 & C & T & G & A & $\\dots$ \\\\\n",
       "\t8 & IE & CHPIGECA-ACCEPTOR-585 & C & A & A & C & $\\dots$ \\\\\n",
       "\t9 & IE & HUMACTGA-ACCEPTOR-886 & G & C & C & C & $\\dots$ \\\\\n",
       "\t10 & N & HUMTFPB-NEG-421 & C & T & T & C & $\\dots$ \\\\\n",
       "\t11 & N & HUMSIGMG3-NEG-301 & A & C & A & C & $\\dots$ \\\\\n",
       "\t12 & N & HUMOTNPI-NEG-481 & A & T & C & C & $\\dots$ \\\\\n",
       "\t13 & EI & HUMA1GLY2-DONOR-3606 & T & C & A & G & $\\dots$ \\\\\n",
       "\t14 & EI & HUMAPOCII-DONOR-3291 & A & T & A & C & $\\dots$ \\\\\n",
       "\t15 & N & HUMCYCB-NEG-181 & C & T & G & C & $\\dots$ \\\\\n",
       "\t16 & EI & HUMCP21OHC-DONOR-2878 & C & T & T & G & $\\dots$ \\\\\n",
       "\t17 & IE & HUMATP1A2-ACCEPTOR-9720 & C & A & G & G & $\\dots$ \\\\\n",
       "\t18 & N & HUMHSP70D-NEG-1441 & A & G & A & A & $\\dots$ \\\\\n",
       "\t19 & N & HUMVIP1-NEG-421 & T & T & A & T & $\\dots$ \\\\\n",
       "\t20 & EI & HUMA1ATP-DONOR-7932 & T & T & G & C & $\\dots$ \\\\\n",
       "\t21 & EI & HUMCP21OH-DONOR-1541 & G & T & G & G & $\\dots$ \\\\\n",
       "\t22 & N & HUMTFPB-NEG-9541 & C & C & A & A & $\\dots$ \\\\\n",
       "\t23 & IE & HUMHPRTB-ACCEPTOR-16573 & T & C & T & A & $\\dots$ \\\\\n",
       "\t24 & N & HUMSPR1B-NEG-181 & G & C & C & C & $\\dots$ \\\\\n",
       "\t25 & IE & HUMPNMTA-ACCEPTOR-3450 & C & T & T & G & $\\dots$ \\\\\n",
       "\t26 & EI & HUMMHCP42-DONOR-3057 & A & T & C & G & $\\dots$ \\\\\n",
       "\t27 & N & HUMIFNB3-NEG-10201 & A & C & T & T & $\\dots$ \\\\\n",
       "\t28 & N & HUMTNFX-NEG-1681 & T & A & G & G & $\\dots$ \\\\\n",
       "\t29 & N & HUMICAM1-NEG-481 & C & C & C & C & $\\dots$ \\\\\n",
       "\t30 & N & HUMGFIBPA-NEG-1441 & A & C & A & T & $\\dots$ \\\\\n",
       "\t$\\dots$ & $\\dots$ & $\\dots$ & $\\dots$ & $\\dots$ & $\\dots$ & $\\dots$ &  \\\\\n",
       "\\end{tabular}\n"
      ],
      "text/plain": [
       "\u001b[1m2542×62 DataFrame\u001b[0m\n",
       "\u001b[1m  Row \u001b[0m│\u001b[1m Class   \u001b[0m\u001b[1m Instance              \u001b[0m\u001b[1m Position_-30 \u001b[0m\u001b[1m Position_-29 \u001b[0m\u001b[1m Position_-\u001b[0m ⋯\n",
       "\u001b[1m      \u001b[0m│\u001b[90m String3 \u001b[0m\u001b[90m String31              \u001b[0m\u001b[90m String1      \u001b[0m\u001b[90m String1      \u001b[0m\u001b[90m String1   \u001b[0m ⋯\n",
       "──────┼─────────────────────────────────────────────────────────────────────────\n",
       "    1 │ N        HUMHBB-NEG-10321       T             A             G          ⋯\n",
       "    2 │ EI       HUMRPS17A-DONOR-2291   C             C             T\n",
       "    3 │ N        HUMINIFI-NEG-481       A             T             T\n",
       "    4 │ N        HUMER41-NEG-3661       G             T             G\n",
       "    5 │ N        HUMRTVLH2-NEG-4681     A             A             T          ⋯\n",
       "    6 │ N        HUMTHMA-NEG-121        C             T             T\n",
       "    7 │ EI       HUMSAACT-DONOR-2499    C             T             G\n",
       "    8 │ IE       CHPIGECA-ACCEPTOR-585  C             A             A\n",
       "    9 │ IE       HUMACTGA-ACCEPTOR-886  G             C             C          ⋯\n",
       "   10 │ N        HUMTFPB-NEG-421        C             T             T\n",
       "   11 │ N        HUMSIGMG3-NEG-301      A             C             A\n",
       "  ⋮   │    ⋮               ⋮                 ⋮             ⋮             ⋮     ⋱\n",
       " 2533 │ N        HUMTROPSR-NEG-721      A             T             A\n",
       " 2534 │ N        HUMKRASP-NEG-541       G             G             C          ⋯\n",
       " 2535 │ EI       HUMTNFAB-DONOR-5318    C             G             A\n",
       " 2536 │ N        HUMVTNR-NEG-1081       T             G             T\n",
       " 2537 │ IE       HUMALPI-ACCEPTOR-415   T             G             A\n",
       " 2538 │ N        HUMCYPSCC-NEG-1501     A             A             A          ⋯\n",
       " 2539 │ EI       HUMHSP90B-DONOR-3809   G             A             G\n",
       " 2540 │ EI       HUMALPI-DONOR-762      G             A             C\n",
       " 2541 │ EI       HUMFIXG-DONOR-3053     T             A             G\n",
       " 2542 │ N        HUMLAM1B-NEG-4681      G             A             A          ⋯\n",
       "\u001b[36m                                                58 columns and 2521 rows omitted\u001b[0m"
      ]
     },
     "execution_count": 59,
     "metadata": {},
     "output_type": "execute_result"
    }
   ],
   "source": [
    "# Read the CSV file into a DataFrame\n",
    "file_name = first(filter(x -> endswith(x, \".csv\"), readdir(TRAIN_DIR)))\n",
    "file_path = joinpath(TRAIN_DIR, file_name)\n",
    "train_df = DataFrame(CSV.File(file_path))"
   ]
  },
  {
   "cell_type": "markdown",
   "metadata": {},
   "source": [
    "## Data Preprocessing\n",
    "Data preprocessing is very important before training the model, as the data may contain missing values in some cells. Moreover, most of the learning algorithms cannot work with categorical data, thus the data has to be encoded.\n",
    "\n",
    "In this section we will impute the missing values and encode the categorical features. Afterwards the data will be ready to train the model."
   ]
  },
  {
   "cell_type": "markdown",
   "metadata": {},
   "source": [
    "##### Imputing missing data\n",
    "> The median value will be used to impute missing values of the numeric features and the mode will be used to impute categorical features.\n",
    "\n",
    "##### You can add your own preprocessing steps such as:\n",
    "<ul>\n",
    "<li>Normalization</li> <br>\n",
    "<li>Outlier removal</li><br>\n",
    "<li>Dropping or adding features</li><br>\n",
    "</ul>\n",
    "\n",
    "### Important note:\n",
    "<p> \n",
    "Saving the values used for imputation during training step is crucial. These values will be used to impute missing data in the testing set. This is very important to avoid the well known problem of data leakage. During testing, you should not make any assumptions about the data in hand, alternatively anything needed during the testing phase should be learned from the training phase. This is why we are creating a dictionary of values used during training to reuse these values during testing.\n",
    "</p>\n"
   ]
  },
  {
   "cell_type": "code",
   "execution_count": 60,
   "metadata": {},
   "outputs": [],
   "source": [
    "# Imputing missing data\n",
    "imputation_values = Dict{String, Any}()\n",
    "\n",
    "for column in nullable_features\n",
    "    if column in numeric_features\n",
    "        value = median(skipmissing(train_df[!, column]))\n",
    "    else\n",
    "        value = mode(skipmissing(train_df[!, column]))\n",
    "    end\n",
    "    train_df[!, column] = coalesce.(train_df[!, column], value)\n",
    "    imputation_values[column] = value\n",
    "end\n",
    "\n",
    "# Serialize the imputation_values dictionary to a binary file\n",
    "open(IMPUTATION_FILE, \"w\") do io\n",
    "    serialize(io, imputation_values)\n",
    "end\n"
   ]
  },
  {
   "cell_type": "markdown",
   "metadata": {},
   "source": [
    "##### Encoding Categorical features\n",
    "<p>\n",
    "The id column is just an identifier for the training example, so we will exclude it during the encoding phase.<br>\n",
    "Target feature will be label encoded in the next step.\n",
    "</p>\n"
   ]
  },
  {
   "cell_type": "code",
   "execution_count": 61,
   "metadata": {},
   "outputs": [
    {
     "data": {
      "text/plain": [
       "Dict{Any, Any} with 60 entries:\n",
       "  \"Position_+11\" => String1[\"G\", \"C\", \"T\"]\n",
       "  \"Position_+12\" => String1[\"G\", \"C\", \"T\"]\n",
       "  \"Position_-3\"  => String1[\"C\", \"A\", \"T\"]\n",
       "  \"Position_+9\"  => String1[\"C\", \"G\", \"T\"]\n",
       "  \"Position_+4\"  => String1[\"A\", \"G\", \"C\"]\n",
       "  \"Position_+27\" => String1[\"G\", \"C\", \"T\"]\n",
       "  \"Position_+29\" => String1[\"C\", \"G\", \"A\"]\n",
       "  \"Position_-5\"  => String1[\"T\", \"C\", \"A\"]\n",
       "  \"Position_+10\" => String1[\"G\", \"C\", \"T\"]\n",
       "  \"Position_-13\" => String1[\"T\", \"C\", \"G\"]\n",
       "  \"Position_+18\" => String1[\"G\", \"C\", \"A\"]\n",
       "  \"Position_-21\" => String1[\"T\", \"C\", \"G\"]\n",
       "  \"Position_-25\" => String1[\"C\", \"G\", \"T\"]\n",
       "  \"Position_-1\"  => String1[\"G\", \"A\", \"C\"]\n",
       "  \"Position_-20\" => String1[\"T\", \"C\", \"G\"]\n",
       "  \"Position_+15\" => String1[\"C\", \"G\", \"A\"]\n",
       "  \"Position_+21\" => String1[\"C\", \"G\", \"T\"]\n",
       "  \"Position_+24\" => String1[\"G\", \"C\", \"T\"]\n",
       "  \"Position_+20\" => String1[\"G\", \"C\", \"A\"]\n",
       "  \"Position_-12\" => String1[\"C\", \"T\", \"G\"]\n",
       "  \"Position_-10\" => String1[\"C\", \"T\", \"G\"]\n",
       "  \"Position_-28\" => String1[\"C\", \"G\", \"T\"]\n",
       "  \"Position_-16\" => String1[\"C\", \"T\", \"G\"]\n",
       "  \"Position_-8\"  => String1[\"C\", \"T\", \"G\"]\n",
       "  \"Position_+5\"  => String1[\"G\", \"C\", \"T\"]\n",
       "  ⋮              => ⋮"
      ]
     },
     "execution_count": 61,
     "metadata": {},
     "output_type": "execute_result"
    }
   ],
   "source": [
    "# Store the target column in a variable\n",
    "target = train_df[:, target_feature]\n",
    "\n",
    "# Drop the target column from the dataframe\n",
    "select!(train_df, Not(target_feature))\n",
    "\n",
    "# Function to get top 3 categories\n",
    "function get_top_categories(df, features, n=3)\n",
    "    top_cats = Dict()\n",
    "    for feature in features\n",
    "        col_data = df[!, feature]\n",
    "        category_counts = StatsBase.countmap(col_data)\n",
    "        sorted_categories = sort(collect(category_counts), by=x->x[2], rev=true)\n",
    "        \n",
    "        # Take minimum between n and the number of unique categories\n",
    "        num_categories = min(n, length(sorted_categories))\n",
    "        \n",
    "        top_cats[feature] = [x[1] for x in sorted_categories[1:num_categories]]\n",
    "    end\n",
    "    return top_cats\n",
    "end\n",
    "\n",
    "# Get top 3 categories for specific features\n",
    "top_categories = get_top_categories(train_df, categorical_features)\n"
   ]
  },
  {
   "cell_type": "code",
   "execution_count": 62,
   "metadata": {},
   "outputs": [],
   "source": [
    "# Function to one-hot encode only the top 3 categories\n",
    "function one_hot_top_categories!(df, top_categories)\n",
    "    for (feature, top_cats) in top_categories\n",
    "        if length(top_cats) == 2  # Handle the binary case\n",
    "            # Assuming the first category in top_cats is treated as 'true'\n",
    "            new_col_name = Symbol(string(feature, \"_binary\"))\n",
    "            df[!, new_col_name] = df[!, feature] .== top_cats[1]\n",
    "        else  # Handle the general case\n",
    "            for cat in top_cats\n",
    "                new_col_name = Symbol(string(feature, \"_\", cat))\n",
    "                df[!, new_col_name] = df[!, feature] .== cat\n",
    "            end\n",
    "        end\n",
    "        select!(df, Not(Symbol(feature)))  # Drop the original feature column\n",
    "    end\n",
    "end\n",
    "\n",
    "# Apply one-hot encoding\n",
    "one_hot_top_categories!(train_df, top_categories)\n",
    "\n",
    "# Serialize the top_categories dictionary to a binary file\n",
    "open(TOP_CATEGORIES, \"w\") do io\n",
    "    serialize(io, top_categories)\n",
    "end\n"
   ]
  },
  {
   "cell_type": "markdown",
   "metadata": {},
   "source": [
    "### Training the Classifier\n",
    "We choose Random Forest Classifier model, but feel free to try your own and compare the results."
   ]
  },
  {
   "cell_type": "code",
   "execution_count": 63,
   "metadata": {},
   "outputs": [],
   "source": [
    "x_train = Matrix(train_df[:, Not([id_feature])])\n",
    "\n",
    "# train random forest classifier\n",
    "# using 2 random features, 10 trees, 0.5 portion of samples per tree, and a maximum tree depth of 6\n",
    "model = build_forest(string.(target), x_train, 2, 10, 0.5, 6)\n",
    "\n",
    "open(PREDICTOR_FILE_PATH, \"w\") do io\n",
    "    serialize(io, model)\n",
    "end"
   ]
  },
  {
   "cell_type": "code",
   "execution_count": null,
   "metadata": {},
   "outputs": [],
   "source": []
  }
 ],
 "metadata": {
  "kernelspec": {
   "display_name": "Julia 1.9.3",
   "language": "julia",
   "name": "julia-1.9"
  },
  "language_info": {
   "file_extension": ".jl",
   "mimetype": "application/julia",
   "name": "julia",
   "version": "1.9.3"
  },
  "orig_nbformat": 4
 },
 "nbformat": 4,
 "nbformat_minor": 2
}
